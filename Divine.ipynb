{
  "nbformat": 4,
  "nbformat_minor": 0,
  "metadata": {
    "colab": {
      "name": "Divine.ipynb",
      "provenance": [],
      "authorship_tag": "ABX9TyOYgAOPWKKja3/HmOqA+myD",
      "include_colab_link": true
    },
    "kernelspec": {
      "name": "python3",
      "display_name": "Python 3"
    }
  },
  "cells": [
    {
      "cell_type": "markdown",
      "metadata": {
        "id": "view-in-github",
        "colab_type": "text"
      },
      "source": [
        "<a href=\"https://colab.research.google.com/github/adelaramadhina/scrapdivAI/blob/main/Divine.ipynb\" target=\"_parent\"><img src=\"https://colab.research.google.com/assets/colab-badge.svg\" alt=\"Open In Colab\"/></a>"
      ]
    },
    {
      "cell_type": "code",
      "metadata": {
        "id": "IF4Aid33Akzk"
      },
      "source": [
        "#DESCRIPTION: ANNOYING CHAT BOT"
      ],
      "execution_count": null,
      "outputs": []
    },
    {
      "cell_type": "code",
      "metadata": {
        "id": "bHofQbgvAvVO"
      },
      "source": [
        "pip install nltk"
      ],
      "execution_count": null,
      "outputs": []
    },
    {
      "cell_type": "code",
      "metadata": {
        "id": "aouzpIiAA2dA"
      },
      "source": [
        "pip install newspaper3k"
      ],
      "execution_count": null,
      "outputs": []
    },
    {
      "cell_type": "code",
      "metadata": {
        "id": "eAZfGdvsA9GH"
      },
      "source": [
        "#import libraries\r\n",
        "from newspaper import Article\r\n",
        "import random\r\n",
        "import string\r\n",
        "import nltk\r\n",
        "from sklearn.feature_extraction.text import CountVectorizer\r\n",
        "from sklearn.metrics.pairwise import cosine_similarity\r\n",
        "import numpy as np\r\n",
        "import warnings\r\n",
        "warnings.filterwarnings('ignore')\r\n",
        "\r\n"
      ],
      "execution_count": null,
      "outputs": []
    },
    {
      "cell_type": "code",
      "metadata": {
        "id": "jf7QWqz8BhnY"
      },
      "source": [
        "#Download the punkt package\r\n",
        "nltk.download('punkt', quiet=True )"
      ],
      "execution_count": null,
      "outputs": []
    },
    {
      "cell_type": "code",
      "metadata": {
        "id": "KXLuIqKLBrBA"
      },
      "source": [
        "#get article\r\n",
        "article = Article('http://www.dawnmist.org/craft/tarot2.htm')\r\n",
        "article.download()\r\n",
        "article.parse()\r\n",
        "article.nlp()\r\n",
        "corpus = article.text"
      ],
      "execution_count": null,
      "outputs": []
    },
    {
      "cell_type": "code",
      "metadata": {
        "id": "vVBkH32-B858"
      },
      "source": [
        "#print text\r\n",
        "print(corpus)\r\n"
      ],
      "execution_count": null,
      "outputs": []
    },
    {
      "cell_type": "code",
      "metadata": {
        "id": "cnJU6UbDC9jG"
      },
      "source": [
        "#tokenisation\r\n",
        "text = corpus\r\n",
        "sentence_list = nltk.sent_tokenize(text) # list of sentences"
      ],
      "execution_count": null,
      "outputs": []
    },
    {
      "cell_type": "code",
      "metadata": {
        "id": "5sbec_XNDK92"
      },
      "source": [
        "#print sentences\r\n",
        "print(sentence_list)"
      ],
      "execution_count": null,
      "outputs": []
    },
    {
      "cell_type": "code",
      "metadata": {
        "id": "mnS3-kgxDTJ_"
      },
      "source": [
        "# function to return random greeting to user greeting \r\n",
        "def greeting_responses(text):\r\n",
        "  text = text.lower()\r\n",
        "\r\n",
        "  #bots response\r\n",
        "  bot_greeting = ['Welcome..read your future here', 'What is your question?', 'What is it that you desire?', 'Lets read your future']\r\n",
        "  #users greeting \r\n",
        "  user_greeting = ['hello', 'hi', 'hey', 'greetings']\r\n",
        "\r\n",
        "  for word in text.split():\r\n",
        "    if word in user_greeting:\r\n",
        "      return random.choice(bot_greeting)"
      ],
      "execution_count": null,
      "outputs": []
    },
    {
      "cell_type": "code",
      "metadata": {
        "id": "hLPN0OoIFo0i"
      },
      "source": [
        "def index_sort(list_var):\r\n",
        "  length = len(list_var)\r\n",
        "  list_index = list(range(0, length))\r\n",
        "\r\n",
        "  x = list_var\r\n",
        "  for i in range(length):\r\n",
        "    for j in range (length):\r\n",
        "      if x[list_index[i]] > x[list_index[j]]:\r\n",
        "        #swap\r\n",
        "        temp = list_index[i]\r\n",
        "        list_index[i] = list_index[j]\r\n",
        "        list_index[j] = temp\r\n",
        "  return list_index"
      ],
      "execution_count": null,
      "outputs": []
    },
    {
      "cell_type": "code",
      "metadata": {
        "id": "PnHmCBEgDhvb"
      },
      "source": [
        "#create bots response\r\n",
        "def bot_response(user_input):\r\n",
        "  user_input = user_input.lower()\r\n",
        "  sentence_list.append(user_input)\r\n",
        "  bot_response = ''\r\n",
        "  cm = CountVectorizer().fit_transform(sentence_list)\r\n",
        "  similarity_scores = cosine_similarity(cm[-1], cm)\r\n",
        "  similarity_scores_list = similarity_scores.flatten()\r\n",
        "  index = index_sort(similarity_scores_list)\r\n",
        "  index = index[1:]\r\n",
        "  response_flag = 0\r\n",
        "\r\n",
        "\r\n",
        "  j = 0\r\n",
        "  for i in range (len(index)):\r\n",
        "    if similarity_scores_list[index[i]] > 0.0:\r\n",
        "      bot_response = bot_response+' '+sentence_list[index[i]]\r\n",
        "      response_flag = 1\r\n",
        "      j = j+1\r\n",
        "    if j > 2:\r\n",
        "      break\r\n",
        "\r\n",
        "  if response_flag == 0:\r\n",
        "    bot_response = bot_response+' '+\"I apologize, I do not undestand.\"\r\n",
        "\r\n",
        "  sentence_list.remove(user_input)\r\n",
        "\r\n",
        "  return bot_response"
      ],
      "execution_count": null,
      "outputs": []
    },
    {
      "cell_type": "code",
      "metadata": {
        "id": "3qETHzXiJ601"
      },
      "source": [
        "#Start Chat\r\n",
        "print('Tarot Bot: I am a Tarot bot in progress. I will answer your queries about your future. To exit, type bye')\r\n",
        "\r\n",
        "exit_list = ['exit', 'bye', 'see you later', 'quit', 'break']\r\n",
        "while(True):\r\n",
        "  user_input = input()\r\n",
        "  if user_input.lower() in exit_list:\r\n",
        "    print('Tarot Bot: Bye.')\r\n",
        "    break\r\n",
        "  else:\r\n",
        "    if greeting_responses(user_input) != None: \r\n",
        "      print('Tarot Bot: ' +greeting_responses(user_input))\r\n",
        "    else: \r\n",
        "      print('Tarot Bot: '+bot_response(user_input))"
      ],
      "execution_count": null,
      "outputs": []
    }
  ]
}